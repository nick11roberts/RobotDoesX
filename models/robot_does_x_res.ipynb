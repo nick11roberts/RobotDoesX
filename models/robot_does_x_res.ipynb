{
 "cells": [
  {
   "cell_type": "code",
   "execution_count": 18,
   "metadata": {
    "collapsed": false
   },
   "outputs": [],
   "source": [
    "from __future__ import print_function\n",
    "from keras.models import Sequential, Model\n",
    "from keras.layers import Dense, Activation, Dropout\n",
    "from keras.layers import LSTM, GRU\n",
    "from keras.layers import merge, Input\n",
    "from keras.layers.wrappers import TimeDistributed\n",
    "from keras.optimizers import Nadam, RMSprop\n",
    "from keras.utils.data_utils import get_file\n",
    "from datetime import datetime\n",
    "import numpy as np\n",
    "import rethinkdb as r\n",
    "import random\n",
    "import sys"
   ]
  },
  {
   "cell_type": "code",
   "execution_count": 19,
   "metadata": {
    "collapsed": false
   },
   "outputs": [
    {
     "name": "stdout",
     "output_type": "stream",
     "text": [
      "instance_id:  single_lstm_rmsprop_60_2016-12-21 14:46:15\n",
      "corpus length: 384\n",
      "total chars: 31\n",
      "nb sequences: 115\n",
      "Vectorization...\n"
     ]
    }
   ],
   "source": [
    "# Connect to RethinkDB instance\n",
    "r.connect(\"localhost\", 28015, db=\"robot_does_x\").repl()\n",
    "\n",
    "# Path to latest weights\n",
    "file_path = \"model_latest.hdf5\"\n",
    "\n",
    "# Create instance id using current time\n",
    "instance_id = datetime.now().strftime('%Y-%m-%d %H:%M:%S')\n",
    "instance_id = 'single_lstm_rmsprop_60_' + instance_id\n",
    "print(\"instance_id: \", instance_id)\n",
    "\n",
    "# Open dataset\n",
    "text = open('../data/test.txt').read().lower()\n",
    "print('corpus length:', len(text))\n",
    "\n",
    "chars = sorted(list(set(text)))\n",
    "print('total chars:', len(chars))\n",
    "char_indices = dict((c, i) for i, c in enumerate(chars))\n",
    "indices_char = dict((i, c) for i, c in enumerate(chars))\n",
    "\n",
    "# cut the text in semi-redundant sequences of maxlen characters\n",
    "maxlen = 40\n",
    "step = 3\n",
    "sentences = []\n",
    "next_chars = []\n",
    "for i in range(0, len(text) - maxlen, step):\n",
    "    sentences.append(text[i: i + maxlen])\n",
    "    next_chars.append(text[i + maxlen])\n",
    "print('nb sequences:', len(sentences))\n",
    "\n",
    "print('Vectorization...')\n",
    "X = np.zeros((len(sentences), maxlen, len(chars)), dtype=np.bool)\n",
    "y = np.zeros((len(sentences), maxlen, len(chars)), dtype=np.bool)\n",
    "for i, sentence in enumerate(sentences):\n",
    "    for t, char in enumerate(sentence):\n",
    "        X[i, t, char_indices[char]] = 1\n",
    "        y[i, t, char_indices[next_chars[i]]] = 1"
   ]
  },
  {
   "cell_type": "code",
   "execution_count": 20,
   "metadata": {
    "collapsed": false
   },
   "outputs": [
    {
     "name": "stdout",
     "output_type": "stream",
     "text": [
      "Build model...\n",
      "____________________________________________________________________________________________________\n",
      "Layer (type)                     Output Shape          Param #     Connected to                     \n",
      "====================================================================================================\n",
      "input_1 (InputLayer)             (None, 40, 31)        0                                            \n",
      "____________________________________________________________________________________________________\n",
      "lstm_7 (LSTM)                    (None, 40, 128)       81920       input_1[0][0]                    \n",
      "____________________________________________________________________________________________________\n",
      "lstm_8 (LSTM)                    (None, 40, 128)       131584      lstm_7[0][0]                     \n",
      "____________________________________________________________________________________________________\n",
      "timedistributed_7 (TimeDistribute(None, 40, 31)        3999        lstm_8[0][0]                     \n",
      "____________________________________________________________________________________________________\n",
      "merge_1 (Merge)                  (None, 40, 31)        0           input_1[0][0]                    \n",
      "                                                                   timedistributed_7[0][0]          \n",
      "____________________________________________________________________________________________________\n",
      "timedistributed_8 (TimeDistribute(None, 40, 31)        992         merge_1[0][0]                    \n",
      "====================================================================================================\n",
      "Total params: 218495\n",
      "____________________________________________________________________________________________________\n",
      "None\n",
      "Epoch 1/1\n",
      "115/115 [==============================] - 4s - loss: 3.9360     \n"
     ]
    },
    {
     "data": {
      "text/plain": [
       "<keras.callbacks.History at 0x113604ba8>"
      ]
     },
     "execution_count": 20,
     "metadata": {},
     "output_type": "execute_result"
    }
   ],
   "source": [
    "print('Build model...')\n",
    "input_1 = Input(shape=(maxlen, len(chars)))\n",
    "lstm_1 = LSTM(128, return_sequences=True, init= 'orthogonal')(input_1)\n",
    "lstm_2 = LSTM(128, return_sequences=True, init= 'orthogonal')(lstm_1)\n",
    "timedistributed_1 = TimeDistributed(Dense(len(chars), init= 'orthogonal'))(lstm_2)\n",
    "merge_1 = merge([input_1, timedistributed_1], mode='sum')\n",
    "timedistributed_2 = TimeDistributed(Dense(len(chars), activation='softmax', init='orthogonal'))(merge_1)\n",
    "model = Model(input=input_1, output=timedistributed_2)\n",
    "\n",
    "\n",
    "optimizer = RMSprop(lr=0.01)\n",
    "model.compile(loss='categorical_crossentropy', optimizer=optimizer)\n",
    "\n",
    "# Print model summary\n",
    "print(model.summary())\n",
    "\n",
    "model.fit(X, y, nb_epoch=1)"
   ]
  },
  {
   "cell_type": "code",
   "execution_count": 28,
   "metadata": {
    "collapsed": false
   },
   "outputs": [
    {
     "name": "stdout",
     "output_type": "stream",
     "text": [
      "(1, 40, 31)\n",
      "(31,)\n"
     ]
    }
   ],
   "source": [
    "\n",
    "x = np.zeros((1, maxlen, len(chars)))\n",
    "for t, char in enumerate(sentence):\n",
    "    x[0, t, char_indices[char]] = 1.\n",
    "    \n",
    "print(x.shape)\n",
    "preds = model.predict(x, verbose=0)[0][-1]\n",
    "print(preds.shape)"
   ]
  },
  {
   "cell_type": "code",
   "execution_count": null,
   "metadata": {
    "collapsed": true
   },
   "outputs": [],
   "source": []
  }
 ],
 "metadata": {
  "anaconda-cloud": {},
  "kernelspec": {
   "display_name": "Python [default]",
   "language": "python",
   "name": "python3"
  },
  "language_info": {
   "codemirror_mode": {
    "name": "ipython",
    "version": 3
   },
   "file_extension": ".py",
   "mimetype": "text/x-python",
   "name": "python",
   "nbconvert_exporter": "python",
   "pygments_lexer": "ipython3",
   "version": "3.5.2"
  }
 },
 "nbformat": 4,
 "nbformat_minor": 1
}
