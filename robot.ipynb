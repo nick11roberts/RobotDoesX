{
 "cells": [
  {
   "cell_type": "code",
   "execution_count": 43,
   "metadata": {
    "collapsed": false
   },
   "outputs": [],
   "source": [
    "import numpy as np\n",
    "\n",
    "from keras.models import Sequential, load_model\n",
    "from keras.layers.core import Dense, Activation, Dropout, TimeDistributedDense\n",
    "from keras.layers.recurrent import LSTM"
   ]
  },
  {
   "cell_type": "code",
   "execution_count": 55,
   "metadata": {
    "collapsed": false
   },
   "outputs": [],
   "source": [
    "text = open('data/data_clean.txt', 'r').read().lower()\n",
    "char_to_idx = {ch: i for (i, ch) in enumerate(sorted(list(set(text))))}\n",
    "idx_to_char = {i: ch for (ch, i) in char_to_idx.items()}\n",
    "vocab_size = 59\n",
    "SEQ_LEN = 64\n",
    "BATCH_SIZE = 16\n",
    "BATCH_CHARS = len(text) // BATCH_SIZE\n",
    "LSTM_SIZE = 256\n",
    "LAYERS = 3"
   ]
  },
  {
   "cell_type": "code",
   "execution_count": 60,
   "metadata": {
    "collapsed": true
   },
   "outputs": [],
   "source": [
    "def read_batches(text):\n",
    "    T = np.asarray([char_to_idx[c] for c in text], dtype=np.int32)\n",
    "    X = np.zeros((BATCH_SIZE, SEQ_LEN, vocab_size))\n",
    "    Y = np.zeros((BATCH_SIZE, SEQ_LEN, vocab_size))\n",
    "\n",
    "    for i in range(0, BATCH_CHARS - SEQ_LEN - 1, SEQ_LEN):\n",
    "        X[:] = 0\n",
    "        Y[:] = 0\n",
    "        for batch_idx in range(BATCH_SIZE):\n",
    "            start = batch_idx * BATCH_CHARS + i\n",
    "            for j in range(SEQ_LEN):\n",
    "                X[batch_idx, j, T[start+j]] = 1\n",
    "                Y[batch_idx, j, T[start+j+1]] = 1\n",
    "\n",
    "        yield X, Y\n",
    "\n",
    "def build_model(infer):\n",
    "    if infer:\n",
    "        batch_size = seq_len = 1\n",
    "    else:\n",
    "        batch_size = BATCH_SIZE\n",
    "        seq_len = SEQ_LEN\n",
    "    model = Sequential()\n",
    "    model.add(LSTM(LSTM_SIZE,\n",
    "                   return_sequences=True,\n",
    "                   batch_input_shape=(batch_size, seq_len, vocab_size),\n",
    "                   consume_less='cpu',\n",
    "                   unroll=True,\n",
    "                   stateful=True))\n",
    "\n",
    "    #model.add(Dropout(0.2))\n",
    "    for l in range(LAYERS - 1):\n",
    "        model.add(LSTM(LSTM_SIZE, return_sequences=True, stateful=True))\n",
    "        #model.add(Dropout(0.2))\n",
    "\n",
    "    model.add(TimeDistributedDense(vocab_size))\n",
    "    model.add(Activation('softmax'))\n",
    "    model.compile(loss='categorical_crossentropy', optimizer='nadam')\n",
    "    return model\n",
    "\n",
    "def sample(sample_chars=256, primer_text='and the '):\n",
    "    #model.reset_states()\n",
    "    model.load_weights('karpathy_keras_char_rnn.h5')\n",
    "    \n",
    "    sampled = [char_to_idx[c] for c in primer_text]\n",
    "\n",
    "    for c in primer_text:\n",
    "        batch = np.zeros((1, 1, vocab_size))\n",
    "        batch[0, 0, char_to_idx[c]] = 1\n",
    "        model.predict_on_batch(batch)\n",
    "\n",
    "    for i in range(sample_chars):\n",
    "        batch = np.zeros((1, 1, vocab_size))\n",
    "        batch[0, 0, sampled[-1]] = 1\n",
    "        softmax = model.predict_on_batch(batch)[0].ravel()\n",
    "        sample = np.random.choice(range(vocab_size), p=softmax)\n",
    "        sampled.append(sample)\n",
    "\n",
    "    print(''.join([idx_to_char[c] for c in sampled]))"
   ]
  },
  {
   "cell_type": "code",
   "execution_count": 66,
   "metadata": {
    "collapsed": false
   },
   "outputs": [
    {
     "name": "stderr",
     "output_type": "stream",
     "text": [
      "//anaconda/lib/python3.5/site-packages/keras/layers/core.py:1156: UserWarning: `TimeDistributedDense` is deprecated, And will be removed on May 1st, 2017. Please use a `Dense` layer instead.\n",
      "  warnings.warn('`TimeDistributedDense` is deprecated, '\n"
     ]
    },
    {
     "name": "stdout",
     "output_type": "stream",
     "text": [
      "bitch on it for the felt pack in a night out of the amazing blender applying not end like a shot and a pencil on the towist is going to use a little bit of blending outsidiala and we're going to go for that blend out a little transition again to my entire harsh precise brush i love this brall but i am using i'm applying a light palette for my eyes already now i'm using the colour-pop lippie brown that is going to increase i'm actually gonna take the primer right now version to your eyebrows and the eyes for this\n"
     ]
    }
   ],
   "source": [
    "model = build_model(infer=True)\n",
    "\n",
    "sample(sample_chars=512, primer_text='bitch')"
   ]
  },
  {
   "cell_type": "code",
   "execution_count": null,
   "metadata": {
    "collapsed": true
   },
   "outputs": [],
   "source": []
  },
  {
   "cell_type": "code",
   "execution_count": null,
   "metadata": {
    "collapsed": true
   },
   "outputs": [],
   "source": []
  }
 ],
 "metadata": {
  "anaconda-cloud": {},
  "kernelspec": {
   "display_name": "Python [default]",
   "language": "python",
   "name": "python3"
  },
  "language_info": {
   "codemirror_mode": {
    "name": "ipython",
    "version": 3
   },
   "file_extension": ".py",
   "mimetype": "text/x-python",
   "name": "python",
   "nbconvert_exporter": "python",
   "pygments_lexer": "ipython3",
   "version": "3.5.2"
  }
 },
 "nbformat": 4,
 "nbformat_minor": 1
}
